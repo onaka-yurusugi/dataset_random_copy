{
  "nbformat": 4,
  "nbformat_minor": 0,
  "metadata": {
    "colab": {
      "name": "画像複製.ipynb",
      "provenance": [],
      "collapsed_sections": [],
      "toc_visible": true,
      "include_colab_link": true
    },
    "kernelspec": {
      "name": "python3",
      "display_name": "Python 3"
    },
    "accelerator": "GPU"
  },
  "cells": [
    {
      "cell_type": "markdown",
      "metadata": {
        "id": "view-in-github",
        "colab_type": "text"
      },
      "source": [
        "<a href=\"https://colab.research.google.com/github/onaka-yurusugi/dataset_random_copy/blob/main/%E7%94%BB%E5%83%8F%E8%A4%87%E8%A3%BD.ipynb\" target=\"_parent\"><img src=\"https://colab.research.google.com/assets/colab-badge.svg\" alt=\"Open In Colab\"/></a>"
      ]
    },
    {
      "cell_type": "markdown",
      "metadata": {
        "id": "lB2LBgsznnwl"
      },
      "source": [
        "# 準備"
      ]
    },
    {
      "cell_type": "code",
      "metadata": {
        "id": "SPPvguuSOLG5",
        "outputId": "7cad4724-bec3-4c73-d97c-0d19ca045260",
        "colab": {
          "base_uri": "https://localhost:8080/",
          "height": 122
        }
      },
      "source": [
        "from google.colab import drive\n",
        "drive.mount('/content/drive')"
      ],
      "execution_count": null,
      "outputs": [
        {
          "output_type": "stream",
          "text": [
            "Go to this URL in a browser: https://accounts.google.com/o/oauth2/auth?client_id=947318989803-6bn6qk8qdgf4n4g3pfee6491hc0brc4i.apps.googleusercontent.com&redirect_uri=urn%3aietf%3awg%3aoauth%3a2.0%3aoob&response_type=code&scope=email%20https%3a%2f%2fwww.googleapis.com%2fauth%2fdocs.test%20https%3a%2f%2fwww.googleapis.com%2fauth%2fdrive%20https%3a%2f%2fwww.googleapis.com%2fauth%2fdrive.photos.readonly%20https%3a%2f%2fwww.googleapis.com%2fauth%2fpeopleapi.readonly\n",
            "\n",
            "Enter your authorization code:\n",
            "··········\n",
            "Mounted at /content/drive\n"
          ],
          "name": "stdout"
        }
      ]
    },
    {
      "cell_type": "code",
      "metadata": {
        "id": "IN7f1QUJuTt4"
      },
      "source": [
        "import glob\n",
        "import random\n",
        "import pathlib\n",
        "import cv2\n",
        "import matplotlib.pyplot as plt\n",
        "import numpy as np\n",
        "from PIL import Image, ImageDraw, ImageOps"
      ],
      "execution_count": null,
      "outputs": []
    },
    {
      "cell_type": "code",
      "metadata": {
        "id": "pIUrE5hCuWb_"
      },
      "source": [
        "class CvOverlayImage(object):\n",
        "    def __init__(self):\n",
        "         pass\n",
        "\n",
        "    @classmethod\n",
        "    def overlay(\n",
        "            cls,\n",
        "            cv_background_image,\n",
        "            cv_overlay_image,\n",
        "            point,\n",
        "    ):\n",
        "        overlay_height, overlay_width = cv_overlay_image.shape[:2]\n",
        "\n",
        "        # OpenCV形式の画像をPIL形式に変換(α値含む)\n",
        "        # 背景画像\n",
        "        cv_rgb_bg_image = cv2.cvtColor(cv_background_image, cv2.COLOR_BGR2RGB)\n",
        "        pil_rgb_bg_image = Image.fromarray(cv_rgb_bg_image)\n",
        "        pil_rgba_bg_image = pil_rgb_bg_image.convert('RGBA')\n",
        "        # オーバーレイ画像\n",
        "        #cv_rgb_ol_image = cv2.cvtColor(cv_overlay_image, cv2.COLOR_BGRA2RGBA)\n",
        "        cv_rgb_ol_image = cv_overlay_image\n",
        "        pil_rgb_ol_image = Image.fromarray(cv_rgb_ol_image)\n",
        "        pil_rgba_ol_image = pil_rgb_ol_image.convert('RGBA')\n",
        "\n",
        "        # composite()は同サイズ画像同士が必須のため、合成用画像を用意\n",
        "        pil_rgba_bg_temp = Image.new('RGBA', pil_rgba_bg_image.size,\n",
        "                                     (255, 255, 255, 0))\n",
        "        # 座標を指定し重ね合わせる\n",
        "        pil_rgba_bg_temp.paste(pil_rgba_ol_image, point, pil_rgba_ol_image)\n",
        "        result_image = \\\n",
        "            Image.alpha_composite(pil_rgba_bg_image, pil_rgba_bg_temp)\n",
        "\n",
        "        # OpenCV形式画像へ変換\n",
        "        cv_bgr_result_image = cv2.cvtColor(\n",
        "            np.asarray(result_image), cv2.COLOR_RGBA2BGRA)\n",
        "\n",
        "        return cv_bgr_result_image\n",
        "\n",
        "def select_color(color):\n",
        "    mean = np.array(color).mean(axis=0)\n",
        "    return (0,0,0,0) if mean <= 1 else color\n",
        "\n",
        "def to_touka(img):\n",
        "    w, h = img.size\n",
        "    touka_img = Image.new('RGBA', (w, h))\n",
        "    np.array([[touka_img.putpixel((x, y), select_color(img.getpixel((x,y)))) for x in range(w)] for y in range(h)])\n",
        "    return touka_img\n",
        "\n",
        "def random_shift(image, shifts):\n",
        "    h, w = image.shape[:2]\n",
        "    src = np.array([[0.0, 0.0],[0.0, 1.0],[1.0, 0.0]], np.float32)\n",
        "    dest = src + shifts.reshape(1,-1).astype(np.float32)\n",
        "    affine = cv2.getAffineTransform(src, dest)\n",
        "    return cv2.warpAffine(image, affine, (w, h))\n",
        "    \n",
        "def expand(image, ratio):\n",
        "    h, w = image.shape[:2]\n",
        "    src = np.array([[0.0, 0.0],[0.0, 1.0],[1.0, 0.0]], np.float32)\n",
        "    dest = src * ratio\n",
        "    affine = cv2.getAffineTransform(src, dest)\n",
        "    return cv2.warpAffine(image, affine, (2*w, 2*h), cv2.INTER_LANCZOS4) # 補間法も指定できる\n",
        "  \n",
        "def pil2cv(image):\n",
        "    ''' PIL型 -> OpenCV型 '''\n",
        "    new_image = np.array(image, dtype=np.uint8)\n",
        "    if new_image.ndim == 2:  # モノクロ\n",
        "        pass\n",
        "    elif new_image.shape[2] == 3:  # カラー\n",
        "        new_image = cv2.cvtColor(new_image, cv2.COLOR_RGB2BGR)\n",
        "    elif new_image.shape[2] == 4:  # 透過\n",
        "        new_image = cv2.cvtColor(new_image, cv2.COLOR_RGBA2BGRA)\n",
        "    return new_image"
      ],
      "execution_count": null,
      "outputs": []
    },
    {
      "cell_type": "markdown",
      "metadata": {
        "id": "w6s1wtpLvs0o"
      },
      "source": [
        "# 画像複製(ランダムシフト+拡大処理)"
      ]
    },
    {
      "cell_type": "code",
      "metadata": {
        "id": "eahYZRv-waE-"
      },
      "source": [
        "# 複製元の画像フォルダのパス\n",
        "files = sorted(glob.glob(\"/content/drive/My Drive/Colab Notebooks/tmp/img/in_x/*\"))\n",
        "\n",
        "# 出力先フォルダのパス\n",
        "out_path = \"/content/drive/My Drive/Colab Notebooks/tmp/img/out/\"\n",
        "\n",
        "# 複製する枚数\n",
        "out_num = 1\n",
        "\n",
        "# (i = 1 → 00001.pngから連番で保存)\n",
        "i = 500\n",
        "\n",
        "# シフト先の座標の下限,上限(pix)\n",
        "shift_min = -10\n",
        "shift_max = 0\n",
        "\n",
        "# 拡大倍率 (1 : 2.2-2.5, 2 : 2.15-2.30 3 : 2.07-2.14)\n",
        "ratio_min = 2.07\n",
        "ratio_max = 2.14"
      ],
      "execution_count": null,
      "outputs": []
    },
    {
      "cell_type": "code",
      "metadata": {
        "id": "lKbegVQYwu62",
        "outputId": "4ae0f3fb-301d-4cf3-c02f-06c63c48cd86",
        "colab": {
          "base_uri": "https://localhost:8080/",
          "height": 51
        }
      },
      "source": [
        "# 基点の座標\n",
        "point = (0, 0)\n",
        "\n",
        "for file in files:\n",
        "   try:     \n",
        "      image = cv2.imread(file)[:,:,::-1]\n",
        "   except TypeError:\n",
        "      print(\"TypeError:\" + str(pathlib.Path(file)))\n",
        "   for idx in range(out_num):\n",
        "      zero_i = \"{0:05d}\".format(i)\n",
        "      imheight, imwidth = image.shape[:2]      \n",
        "\n",
        "      # 拡大処理 ※重くなる     \n",
        "      ratio = random.uniform(ratio_min,ratio_max) # 拡大倍率 原寸は2.0\n",
        "      # image2 = image\n",
        "      image2 = expand(image,ratio)\n",
        "      \n",
        "      # 差分画像の作成(ランダムシフト)\n",
        "      shift = np.float32([[random.randint(shift_min,shift_max),random.randint(shift_min,shift_max)]])\n",
        "      converted = random_shift(image2,shift)\n",
        "\n",
        "      tmp_img = to_touka(Image.fromarray(np.uint8(converted))) # 画像の黒色部分を透過する\n",
        "      cv_background_image = image # 背景用\n",
        "      cv_overlay_image = pil2cv(tmp_img)\n",
        "      cv_overlay_image = cv2.resize(cv_overlay_image, (imwidth, imheight))  \n",
        "      tmp_img = CvOverlayImage.overlay(cv_background_image, cv_overlay_image,point) # 元画像と差分画像の合成処理\n",
        "      result_image = Image.fromarray(np.uint8(tmp_img))\n",
        "      result_image.save(out_path + zero_i + \".png\") # 保存\n",
        "      # plt.title(zero_i + \".png\")\n",
        "      # plt.imshow(result_image)\n",
        "      # plt.show()\n",
        "      print(str(pathlib.Path(file)) + \"　→　\" + out_path + zero_i + \".png\")\n",
        "      i = i + 1\n",
        "print(\"end\")"
      ],
      "execution_count": null,
      "outputs": [
        {
          "output_type": "stream",
          "text": [
            "/content/drive/My Drive/Colab Notebooks/tmp/img/in_x/00499.png　→　/content/drive/My Drive/Colab Notebooks/tmp/img/out/00500.png\n",
            "end\n"
          ],
          "name": "stdout"
        }
      ]
    },
    {
      "cell_type": "markdown",
      "metadata": {
        "id": "NiiApu2UFOnv"
      },
      "source": [
        "# リサイズ/左右反転"
      ]
    },
    {
      "cell_type": "code",
      "metadata": {
        "id": "UqeFe-UkFcAa"
      },
      "source": [
        "# 変換元画像フォルダのパス\n",
        "files = sorted(glob.glob(\"/content/drive/My Drive/Colab Notebooks/tmp/img/in_s/*\"))\n",
        "\n",
        "# 出力先フォルダのパス\n",
        "out_path = \"/content/drive/My Drive/Colab Notebooks/tmp/img/in_s/\"\n",
        "\n",
        "# (i = 1 → 00001.pngから連番で保存)\n",
        "i = 501"
      ],
      "execution_count": null,
      "outputs": []
    },
    {
      "cell_type": "code",
      "metadata": {
        "id": "ymxuy8gaFODn",
        "outputId": "e0217a17-a165-409d-dce2-8bf3f32f04d7",
        "colab": {
          "base_uri": "https://localhost:8080/",
          "height": 102
        }
      },
      "source": [
        "for file in files:\n",
        "  img = Image.open(file)\n",
        "  try:\n",
        "    # リサイズ\n",
        "    # トリミングのサイズ(ピクセル)\n",
        "new_size = 400\n",
        "    img = crop_center(img, 256, 256)\n",
        "    file_name = file.split('.')[0]  # ファイル名から拡張子を除いた部分を取り出す\n",
        "\n",
        "        \n",
        "    # リサイズした画像を連番(00001.png～)で保存\n",
        "    zero_i = \"{0:05d}\".format(i)\n",
        "    tmp_img.save(out_path + zero_i + \".png\") # 保存\n",
        "    print(\"resize completed:\" + file + \" → \" + zero_i + \".png\")\n",
        "    \n",
        "    '''\n",
        "\n",
        "    # 左右反転\n",
        "    img = (img[:, ::-1])\n",
        "    #i += 1\n",
        "    zero_i = \"{0:05d}\".format(i)\n",
        "    tmp_img.save(out_path + zero_i + \".png\") # 保存\n",
        "    '''\n",
        "\n",
        "    print(str(pathlib.Path(file)) + \"　→　\" + out_path + zero_i + \".png\")    \n",
        "    \n",
        "    i += 1\n",
        "  except:\n",
        "    print(\"error\")\n",
        "\n",
        "print(\"COMPLETED!\")"
      ],
      "execution_count": null,
      "outputs": [
        {
          "output_type": "stream",
          "text": [
            "resize completed:/content/drive/My Drive/Colab Notebooks/tmp/img/in_s/00501.png → 00501.png\n",
            "/content/drive/My Drive/Colab Notebooks/tmp/img/in_s/00501.png　→　/content/drive/My Drive/Colab Notebooks/tmp/img/in_s/00501.png\n",
            "resize completed:/content/drive/My Drive/Colab Notebooks/tmp/img/in_s/saigou002.jpg → 00502.png\n",
            "/content/drive/My Drive/Colab Notebooks/tmp/img/in_s/saigou002.jpg　→　/content/drive/My Drive/Colab Notebooks/tmp/img/in_s/00502.png\n",
            "COMPLETED!\n"
          ],
          "name": "stdout"
        }
      ]
    },
    {
      "cell_type": "markdown",
      "metadata": {
        "id": "R4UjHYTXNQt0"
      },
      "source": [
        "# 連番リネーム"
      ]
    },
    {
      "cell_type": "code",
      "metadata": {
        "id": "9MLHA7dWNWL7"
      },
      "source": [
        "# 変換元画像フォルダのパス\n",
        "files = sorted(glob.glob(\"/content/drive/My Drive/Colab Notebooks/tmp/img/out/*\"))\n",
        "\n",
        "# 出力先フォルダのパス\n",
        "out_path = \"/content/drive/My Drive/Colab Notebooks/tmp/img/out/\"\n",
        "\n",
        "# (i = 1 → 00001.pngから連番で保存)\n",
        "i = 6"
      ],
      "execution_count": null,
      "outputs": []
    },
    {
      "cell_type": "code",
      "metadata": {
        "id": "0QgdZnhhNUYL"
      },
      "source": [
        "for file in files:\n",
        "  img = cv2.imread(file)\n",
        "  try:\n",
        "    file_name = file.split('.jpg')[0]\n",
        "\n",
        "    # 数値を五桁(00001)形式にそろえる\n",
        "    zero_i = \"{0:05d}\".format(i)\n",
        "\n",
        "    cv2.imwrite(zero_i + \".png\",img)\n",
        "\n",
        "    print(\"rename completed:\" + file_name + \"  →  \" + zero_i + \".png\")\n",
        "    i += 1\n",
        "\n",
        "  except:\n",
        "    print(\"error\")\n",
        "\n",
        "print(\"COMPLETED!\")"
      ],
      "execution_count": null,
      "outputs": []
    },
    {
      "cell_type": "markdown",
      "metadata": {
        "id": "8r_0duduoVDw"
      },
      "source": [
        "# 参考"
      ]
    },
    {
      "cell_type": "markdown",
      "metadata": {
        "id": "RGkqIYtSLItJ"
      },
      "source": [
        "完全に理解するアフィン変換: https://qiita.com/koshian2/items/c133e2e10c261b8646bf"
      ]
    },
    {
      "cell_type": "markdown",
      "metadata": {
        "id": "6HP-yOqAn6cr"
      },
      "source": [
        "python画像処理9 透過PNGに変換する: https://webcache.googleusercontent.com/search?q=cache:u93DuZuumhEJ:https://www.uosansatox.biz/entry/2017/12/07/124831+&cd=2&hl=ja&ct=clnk&gl=jp"
      ]
    },
    {
      "cell_type": "markdown",
      "metadata": {
        "id": "wt7PbD_in9aT"
      },
      "source": [
        "【OpenCV】【Python】画像上に透過付き画像を重ねて描画: https://qiita.com/Kazuhito/items/ff4d24cd012e40653d0c"
      ]
    }
  ]
}